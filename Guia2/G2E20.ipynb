{
 "cells": [
  {
   "cell_type": "markdown",
   "metadata": {},
   "source": [
    "# Guía 2 ejercicio 20"
   ]
  },
  {
   "cell_type": "markdown",
   "metadata": {},
   "source": [
    "## Samantha Kucher"
   ]
  },
  {
   "cell_type": "markdown",
   "metadata": {},
   "source": [
    "# a)"
   ]
  },
  {
   "cell_type": "markdown",
   "metadata": {},
   "source": [
    "Un experimento aleatorio es aquel que si lo repito bajo las mismas condiciones iniciales, da distinto. Un experimento de Bernoulli es un experimento aleatorio que tiene dos posibles resultados: éxito o fracaso.   \n",
    "   \n",
    "El objetivo de este programa es simular un experimento de Bernoulli, con una dada cantidad de intentos y cierta probabilidad de tener éxito."
   ]
  },
  {
   "cell_type": "code",
   "execution_count": 255,
   "metadata": {
    "collapsed": true
   },
   "outputs": [],
   "source": [
    "import numpy as np\n",
    "import math as m\n",
    "import random as rd\n",
    "from scipy.stats import binom, poisson\n",
    "from matplotlib import pyplot as plt\n",
    "from datetime import datetime\n",
    "rd.seed(datetime.now())\n",
    "%matplotlib inline"
   ]
  },
  {
   "cell_type": "markdown",
   "metadata": {},
   "source": [
    "Genero M números aleatorios con distribución uniforme en [0,1). Por cada número, si es menor a una probabilidad prefijada, significa que tuve un éxito (si no, un fracaso). Al final del experimento, cuento la cantidad de éxitos y de fracasos obtenidos."
   ]
  },
  {
   "cell_type": "code",
   "execution_count": 256,
   "metadata": {
    "collapsed": true
   },
   "outputs": [],
   "source": [
    "exitos_vector=[] #vectores para guardar la cantidad de éxitos y fracasos de cada experimento\n",
    "fracasos_vector=[]"
   ]
  },
  {
   "cell_type": "code",
   "execution_count": 257,
   "metadata": {
    "collapsed": true
   },
   "outputs": [],
   "source": [
    "def expbernoulli(prob,M): #M = cantidad de intentos = cantidad de numeros aleatorios por experimento\n",
    "    exitos = 0\n",
    "    fracasos = 0\n",
    "    for n in range(0,M):\n",
    "        num = rd.random()\n",
    "        if num<prob:\n",
    "            exitos = exitos+1 #cantidad de numeros abajo de prob\n",
    "        else:\n",
    "            fracasos = fracasos+1 #cantidad de numeros arriba de prob\n",
    "    exitos_vector.append(exitos) #voy juntando la cantidad de numeros que salen abajo de p en cada experimento\n",
    "    fracasos_vector.append(fracasos)\n",
    "    return exitos_vector"
   ]
  },
  {
   "cell_type": "markdown",
   "metadata": {},
   "source": [
    "Puedo repetir el experimento T veces. Los resultados de cada repetición los guardo en `exitos_vector` y `fracasos_vector`. Por ejemplo, T=1000, obtengo lo siguiente:"
   ]
  },
  {
   "cell_type": "code",
   "execution_count": 258,
   "metadata": {
    "collapsed": false
   },
   "outputs": [
    {
     "name": "stdout",
     "output_type": "stream",
     "text": [
      "En promedio, se obtuvieron 60.0 éxitos y 40.0 fracasos.\n"
     ]
    }
   ],
   "source": [
    "T =1000 #repeticiones del experimento\n",
    "for i in range(0,T):    \n",
    "    a = expbernoulli(0.6,100)\n",
    "\n",
    "print('En promedio, se obtuvieron {} éxitos y {} fracasos.').format(round(np.mean(exitos_vector),0), round(np.mean(fracasos_vector)),0)"
   ]
  },
  {
   "cell_type": "markdown",
   "metadata": {},
   "source": [
    "Se observa claramente que la cantidad de éxitos obtenida es `M*prob`. Es decir, la probabilidad de que el generador entregue un número en [0,`prob`) es `prob` (por lo tanto, la probabilidad de qu enetregue uno en [`prob`,1) es 1-`prob`)."
   ]
  },
  {
   "cell_type": "code",
   "execution_count": 259,
   "metadata": {
    "collapsed": true
   },
   "outputs": [],
   "source": [
    "exitos_vector=[] #vacio los vectores\n",
    "fracasos_vector=[]"
   ]
  },
  {
   "cell_type": "markdown",
   "metadata": {},
   "source": [
    "# b)"
   ]
  },
  {
   "cell_type": "markdown",
   "metadata": {},
   "source": [
    "Ahora inciden 15 fotones sobre un detector con eficiencia 0.75. Es decir, `M=15` y `prob=0.75`, y el experimento se repite 1000 veces."
   ]
  },
  {
   "cell_type": "code",
   "execution_count": 260,
   "metadata": {
    "collapsed": false
   },
   "outputs": [],
   "source": [
    "T = 1000 #repeticiones del experimento\n",
    "for i in range(0,T):    \n",
    "    b = expbernoulli(0.75,15)"
   ]
  },
  {
   "cell_type": "markdown",
   "metadata": {},
   "source": [
    "Como se realizó un experimento de Bernoulli en el cual la variable aleatoria es la cantidad de éxitos y la probabilidad de tener éxito es constante, la distribución que corresponde a esta variable aleatoria es la binomial."
   ]
  },
  {
   "cell_type": "code",
   "execution_count": 261,
   "metadata": {
    "collapsed": false
   },
   "outputs": [
    {
     "data": {
      "image/png": "[encoded data removed]",
      "text/plain": [
       "<matplotlib.figure.Figure at 0xaccf320>"
      ]
     },
     "metadata": {},
     "output_type": "display_data"
    }
   ],
   "source": [
    "puntosb = np.arange(1,16,1) #puntos para graficar la distribución\n",
    "binesb = np.arange(0.5,15.5)\n",
    "numerob, binsb = np.histogram(b, bins = binesb) \n",
    "errorb = np.sqrt(numerob) / (np.diff(binsb)* np.sum(numerob)) #error poissoniano-->NOOOOO BINOMIAL!!!!\n",
    "numerob = numerob / (np.diff(binsb) * np.sum(numerob)) #Normalizo a 1\n",
    "\n",
    "fig = plt.figure(figsize=(10,6))\n",
    "plt.bar(binsb[:-1], numerob, width = np.diff(binsb), yerr = errorb, ecolor=\"b\", color='c', alpha=0.5)\n",
    "plt.plot(puntosb,binom.pmf(puntosb, 15,0.75), 'mo', ms=8, label='Binomial', alpha=0.9)\n",
    "plt.legend(loc=1, borderaxespad=0.)\n",
    "plt.xlim([0,15.5])\n",
    "plt.xticks(range(0,16))\n",
    "plt.xlabel('Numero de fotones detectados')\n",
    "plt.ylabel('Numero de ocurrencias (normalizado)')\n",
    "plt.title('Histograma')\n",
    "plt.grid()\n",
    "plt.show()"
   ]
  },
  {
   "cell_type": "code",
   "execution_count": 262,
   "metadata": {
    "collapsed": true
   },
   "outputs": [],
   "source": [
    "exitos_vector=[] #vacio los vectores\n",
    "fracasos_vector=[]"
   ]
  },
  {
   "cell_type": "markdown",
   "metadata": {},
   "source": [
    "# c)"
   ]
  },
  {
   "cell_type": "markdown",
   "metadata": {},
   "source": [
    "Una fuente emite fotones con una intensidad media $I=15 \\ \\text{fot} \\ s^{-1}$. Con el objetivo de simular la emisión de fotones durante un $\\Delta t = 1 \\ \\text{s}$, se dividió este tiempo en 1000 intervalos iguales $dt$. La probabilidad de que un fotón sea emitido en $dt$ puede aproximarse por $I dt$ (es decir, `prob = 15/1000`).   \n",
    "   \n",
    "Considero la variable aleatoria \"cantidad de fotones emitidos en un $dt$  si intento 1000 veces con una probabilidad 15/1000\".\n",
    "\n",
    "## Pensar explicación"
   ]
  },
  {
   "cell_type": "code",
   "execution_count": 263,
   "metadata": {
    "collapsed": false
   },
   "outputs": [],
   "source": [
    "T = 1000 #repeticiones del experimento\n",
    "for i in range(0,T):    \n",
    "    c = expbernoulli(15.00/1000.00,1000)"
   ]
  },
  {
   "cell_type": "code",
   "execution_count": 264,
   "metadata": {
    "collapsed": false
   },
   "outputs": [
    {
     "data": {
      "image/png": "[encoded data removed]",
      "text/plain": [
       "<matplotlib.figure.Figure at 0xbe3a198>"
      ]
     },
     "metadata": {},
     "output_type": "display_data"
    }
   ],
   "source": [
    "puntosc = np.arange(0,30) #puntos para graficar la distribución\n",
    "binesc = np.arange(0.5,30.5)\n",
    "numeroc, binsc = np.histogram(c, bins = binesc) \n",
    "errorc = np.sqrt(numeroc) / (np.diff(binsc)* np.sum(numeroc)) #error poissoniano ¿o binomial?\n",
    "numeroc = numeroc / (np.diff(binsc) * np.sum(numeroc)) #Normalizo a 1\n",
    "\n",
    "fig = plt.figure(figsize=(10,6))\n",
    "plt.bar(binsc[:-1], numeroc, width = np.diff(binsc), yerr = errorc, ecolor=\"b\", color='c', alpha=0.5)\n",
    "plt.plot(puntosc,poisson.pmf(puntosc, 15), 'mo', ms=8, label='Poisson', alpha=0.9)\n",
    "plt.legend(loc=1, borderaxespad=0.)\n",
    "plt.xlim([0,30.5])\n",
    "plt.xticks(range(0,30,5))\n",
    "plt.xlabel('Numero de fotones detectados')\n",
    "plt.ylabel('Numero de ocurrencias (normalizado)')\n",
    "plt.title('Histograma')\n",
    "plt.grid()\n",
    "plt.show()"
   ]
  },
  {
   "cell_type": "code",
   "execution_count": null,
   "metadata": {
    "collapsed": true
   },
   "outputs": [],
   "source": []
  }
 ],
 "metadata": {
  "kernelspec": {
   "display_name": "Python 3",
   "language": "python",
   "name": "python3"
  },
  "language_info": {
   "codemirror_mode": {
    "name": "ipython",
    "version": 3
   },
   "file_extension": ".py",
   "mimetype": "text/x-python",
   "name": "python",
   "nbconvert_exporter": "python",
   "pygments_lexer": "ipython3",
   "version": "3.6.0"
  }
 },
 "nbformat": 4,
 "nbformat_minor": 0
}
